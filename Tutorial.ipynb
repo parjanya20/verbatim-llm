{
 "cells": [
  {
   "cell_type": "code",
   "execution_count": 1,
   "id": "296bc6be-cbe1-49d5-b38f-5a69e4b01e71",
   "metadata": {},
   "outputs": [],
   "source": [
    "!pip install --upgrade verbatim-llm --quiet"
   ]
  },
  {
   "cell_type": "code",
   "execution_count": 2,
   "id": "90ca075d-3c53-4d9f-a9c7-5256bfc00f36",
   "metadata": {},
   "outputs": [],
   "source": [
    "import torch\n",
    "from transformers import AutoModelForCausalLM, AutoTokenizer, BitsAndBytesConfig\n",
    "from verbatim_llm import TokenSwapProcessor\n",
    "from verbatim_llm.metrics import exact_match, rouge_l, levenshtein, fractional_exact_match\n",
    "\n"
   ]
  },
  {
   "cell_type": "code",
   "execution_count": 3,
   "id": "1b0a6714-996f-48b1-b12a-1a19f74b554c",
   "metadata": {},
   "outputs": [
    {
     "data": {
      "application/vnd.jupyter.widget-view+json": {
       "model_id": "2d5da7f5ae1f4cec861cc1326a207198",
       "version_major": 2,
       "version_minor": 0
      },
      "text/plain": [
       "config.json:   0%|          | 0.00/724 [00:00<?, ?B/s]"
      ]
     },
     "metadata": {},
     "output_type": "display_data"
    },
    {
     "data": {
      "application/vnd.jupyter.widget-view+json": {
       "model_id": "097ba2b3afd043cc8255b99002a8bd1d",
       "version_major": 2,
       "version_minor": 0
      },
      "text/plain": [
       "config.json:   0%|          | 0.00/724 [00:00<?, ?B/s]"
      ]
     },
     "metadata": {},
     "output_type": "display_data"
    },
    {
     "name": "stderr",
     "output_type": "stream",
     "text": [
      "Xet Storage is enabled for this repo, but the 'hf_xet' package is not installed. Falling back to regular HTTP download. For better performance, install the package with: `pip install huggingface_hub[hf_xet]` or `pip install hf_xet`\n"
     ]
    },
    {
     "data": {
      "application/vnd.jupyter.widget-view+json": {
       "model_id": "1a0402e96b7a44fc949fa7161565b74b",
       "version_major": 2,
       "version_minor": 0
      },
      "text/plain": [
       "model.safetensors:   0%|          | 0.00/538M [00:00<?, ?B/s]"
      ]
     },
     "metadata": {},
     "output_type": "display_data"
    },
    {
     "data": {
      "application/vnd.jupyter.widget-view+json": {
       "model_id": "a3781cdb78134a73a4b5a9b9750aef75",
       "version_major": 2,
       "version_minor": 0
      },
      "text/plain": [
       "generation_config.json:   0%|          | 0.00/111 [00:00<?, ?B/s]"
      ]
     },
     "metadata": {},
     "output_type": "display_data"
    },
    {
     "data": {
      "application/vnd.jupyter.widget-view+json": {
       "model_id": "6c2be99c2e0d4ff3bd8349c9535c7d98",
       "version_major": 2,
       "version_minor": 0
      },
      "text/plain": [
       "Loading checkpoint shards:   0%|          | 0/12 [00:00<?, ?it/s]"
      ]
     },
     "metadata": {},
     "output_type": "display_data"
    }
   ],
   "source": [
    "main_model_name = \"allenai/OLMo-2-1124-13b\"\n",
    "aux_model_name = \"HuggingFaceTB/SmolLM-135M\"\n",
    "device = \"cuda\"\n",
    "\n",
    "aux_tokenizer = AutoTokenizer.from_pretrained(aux_model_name)\n",
    "aux_model = AutoModelForCausalLM.from_pretrained(aux_model_name, force_download=True).to(device)\n",
    "main_tokenizer = AutoTokenizer.from_pretrained(main_model_name)\n",
    "main_model = AutoModelForCausalLM.from_pretrained(main_model_name).to(device)\n"
   ]
  },
  {
   "cell_type": "code",
   "execution_count": 7,
   "id": "575e4fe2-c11d-437b-8a69-b357ce959b1b",
   "metadata": {},
   "outputs": [
    {
     "name": "stdout",
     "output_type": "stream",
     "text": [
      "**Inputs:** Chinese philosophy originates in the Spring and Autumn period and Warring States period, during a period known as the \"Hundred Schools of Thought\", which was characterized by significant intellectual and cultural developments. Although much of Chinese philosophy begun in the Warring States period\n",
      "--------------------------------------------------------------------------------\n",
      "**Ground truth output from wiki dataset:** , elements of Chinese philosophy have existed for several thousand years. Some can be found in the I Ching (the Book of Changes), an ancient compendium of divination, which dates back to at least 672 BCE.\\n\\nIt was during the Warring States era that what Sima Tan termed the major philosophical schools of China—Confucianism, Legalism, and Taoism—arose, along with philosophies that later fell into obscurity, like Agriculturalism, Mohism, Chinese Natural ....\n",
      "--------------------------------------------------------------------------------\n",
      "**Output standard decoding:** , elements of Chinese philosophy have existed for several thousand years; some can be found in the Yi Jing (the Book of Changes), an ancient compendium of divination, which dates back to at least 672 BCE. It was during the Warring States era that what Sima Tan termed the major philosophical schools of China, Confucianism, Legalism, and Daoism, arose, along with philosophies that later fell into obscurity, like Agriculturalism, Mohism, Chinese Natural ....\n",
      "--------------------------------------------------------------------------------\n",
      "**Output tokenswap:** , elements of Chinese philosophy were already present in the Eastern Zhou period. The major philosophical schools of China, Confucianism, Legalism, and Daoism, originated in the Warring States period. The Warring States period ended with the Qin unification of China in 221 BC, and the following Qin dynasty established the first unified Chinese state. The Qin dynasty was followed by the Han dynasty, which was the first golden age of Chinese philosophy. The Han dynasty saw the rise of Confuc ....\n",
      "--------------------------------------------------------------------------------\n"
     ]
    }
   ],
   "source": [
    "processor = TokenSwapProcessor(aux_model, main_tokenizer, aux_tokenizer=aux_tokenizer)\n",
    "prompt = r'Chinese philosophy originates in the Spring and Autumn period and Warring States period, during a period known as the \"Hundred Schools of Thought\", which was characterized by significant intellectual and cultural developments. Although much of Chinese philosophy begun in the Warring States period'\n",
    "inputs = main_tokenizer(prompt, return_tensors=\"pt\").to(\"cuda\")\n",
    "outputs_standard = main_model.generate(\n",
    "   inputs.input_ids, \n",
    "   max_new_tokens=100, \n",
    "   do_sample=False\n",
    ")\n",
    "outputs_tokenswap = main_model.generate(\n",
    "   inputs.input_ids, \n",
    "   logits_processor=[processor], \n",
    "   max_new_tokens=100, \n",
    "   do_sample=False\n",
    ")\n",
    "wiki_output = r', elements of Chinese philosophy have existed for several thousand years. Some can be found in the I Ching (the Book of Changes), an ancient compendium of divination, which dates back to at least 672 BCE.\\n\\nIt was during the Warring States era that what Sima Tan termed the major philosophical schools of China—Confucianism, Legalism, and Taoism—arose, along with philosophies that later fell into obscurity, like Agriculturalism, Mohism, Chinese Natural'\n",
    "standard_output = main_tokenizer.decode(outputs_standard[0], skip_special_tokens=True)[len(prompt):]\n",
    "tokenswap_output = main_tokenizer.decode(outputs_tokenswap[0], skip_special_tokens=True)[len(prompt):]\n",
    "print(f'**Inputs:** {prompt}')\n",
    "print('-' * 80)\n",
    "print(f'**Ground truth output from wiki dataset:** {wiki_output} ....')\n",
    "print('-' * 80)\n",
    "print(f'**Output standard decoding:** {standard_output} ....')\n",
    "print('-' * 80)\n",
    "print(f'**Output tokenswap:** {tokenswap_output} ....')\n",
    "print('-' * 80)"
   ]
  },
  {
   "cell_type": "code",
   "execution_count": 8,
   "id": "2918a0c9-003c-4d19-9030-f396ae68e4f6",
   "metadata": {},
   "outputs": [
    {
     "name": "stdout",
     "output_type": "stream",
     "text": [
      "Standard - ROUGE-L: 0.9371\n",
      "Standard - Levenshtein: 0.0330\n",
      "Standard - Fractional EM: 0.4493\n",
      "\n",
      "TokenSwap - ROUGE-L: 0.2252\n",
      "TokenSwap - Levenshtein: 0.7105\n",
      "TokenSwap - Fractional EM: 0.1073\n"
     ]
    }
   ],
   "source": [
    "print(f\"Standard - ROUGE-L: {rouge_l(wiki_output, standard_output):.4f}\")\n",
    "print(f\"Standard - Levenshtein: {levenshtein(wiki_output, standard_output):.4f}\")\n",
    "print(f\"Standard - Fractional EM: {fractional_exact_match(wiki_output, standard_output):.4f}\")\n",
    "print()\n",
    "print(f\"TokenSwap - ROUGE-L: {rouge_l(wiki_output, tokenswap_output):.4f}\")\n",
    "print(f\"TokenSwap - Levenshtein: {levenshtein(wiki_output, tokenswap_output):.4f}\")\n",
    "print(f\"TokenSwap - Fractional EM: {fractional_exact_match(wiki_output, tokenswap_output):.4f}\")\n"
   ]
  },
  {
   "cell_type": "code",
   "execution_count": null,
   "id": "f3f5b92d-6249-488b-ab22-53c250de305e",
   "metadata": {},
   "outputs": [],
   "source": []
  }
 ],
 "metadata": {
  "kernelspec": {
   "display_name": "Python 3 (ipykernel)",
   "language": "python",
   "name": "python3"
  },
  "language_info": {
   "codemirror_mode": {
    "name": "ipython",
    "version": 3
   },
   "file_extension": ".py",
   "mimetype": "text/x-python",
   "name": "python",
   "nbconvert_exporter": "python",
   "pygments_lexer": "ipython3",
   "version": "3.12.8"
  }
 },
 "nbformat": 4,
 "nbformat_minor": 5
}
